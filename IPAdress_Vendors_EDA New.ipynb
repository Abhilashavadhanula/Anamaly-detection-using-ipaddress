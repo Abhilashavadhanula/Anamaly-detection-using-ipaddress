{
 "cells": [
  {
   "cell_type": "markdown",
   "metadata": {
    "colab_type": "text",
    "id": "yBLFKQDLvbml"
   },
   "source": [
    "# **1.IMPORTING LIBRARIES**"
   ]
  },
  {
   "cell_type": "code",
   "execution_count": null,
   "metadata": {},
   "outputs": [],
   "source": []
  },
  {
   "cell_type": "code",
   "execution_count": null,
   "metadata": {
    "colab": {
     "base_uri": "https://localhost:8080/",
     "height": 85
    },
    "colab_type": "code",
    "id": "JuJM_72LLncx",
    "outputId": "b91bd7d2-354e-4ebe-f691-8708c1a7b502"
   },
   "outputs": [],
   "source": [
    "import matplotlib.pyplot as plt \n",
    "import numpy as np\n",
    "import os \n",
    "import pandas as pd \n",
    "\n",
    "import plotly.express as px\n",
    "import datetime\n",
    "import seaborn as sns\n",
    "import plotly.graph_objects as go\n",
    "import warnings\n",
    "warnings.filterwarnings('ignore')"
   ]
  },
  {
   "cell_type": "markdown",
   "metadata": {
    "colab_type": "text",
    "id": "8jDR-gyAwT50"
   },
   "source": [
    "#**2.READING DATASET**"
   ]
  },
  {
   "cell_type": "code",
   "execution_count": null,
   "metadata": {
    "colab": {
     "base_uri": "https://localhost:8080/",
     "height": 111
    },
    "colab_type": "code",
    "id": "mFXVPK8Xvn4t",
    "outputId": "7f32bd89-a037-436d-e7f0-2a4371520551"
   },
   "outputs": [],
   "source": [
    "df = pd.read_excel('~/downloads/Data.xlsx')\n",
    "df.head(2)\n",
    "\n"
   ]
  },
  {
   "cell_type": "code",
   "execution_count": null,
   "metadata": {
    "colab": {
     "base_uri": "https://localhost:8080/",
     "height": 111
    },
    "colab_type": "code",
    "id": "RcfcWrCa2dCc",
    "outputId": "a8b56b95-10ba-4e9e-d68c-c17103960c41"
   },
   "outputs": [],
   "source": [
    "df.tail(2)\n"
   ]
  },
  {
   "cell_type": "code",
   "execution_count": null,
   "metadata": {
    "colab": {
     "base_uri": "https://localhost:8080/",
     "height": 34
    },
    "colab_type": "code",
    "id": "1jFDhQLv5fsJ",
    "outputId": "ad6e2676-5577-4b17-b3d4-20fe1a06b94e"
   },
   "outputs": [],
   "source": [
    "df.shape"
   ]
  },
  {
   "cell_type": "markdown",
   "metadata": {
    "colab_type": "text",
    "id": "LDOEHcyfxvT1"
   },
   "source": [
    "# **3.DATA CLEANING**"
   ]
  },
  {
   "cell_type": "markdown",
   "metadata": {
    "colab_type": "text",
    "id": "X__YisB5ww3f"
   },
   "source": [
    "**Data Types**"
   ]
  },
  {
   "cell_type": "code",
   "execution_count": null,
   "metadata": {
    "colab": {
     "base_uri": "https://localhost:8080/",
     "height": 204
    },
    "colab_type": "code",
    "id": "mTjRQH7G-oox",
    "outputId": "26be7ea9-947f-433c-81d9-bb358ccbf965"
   },
   "outputs": [],
   "source": [
    "df.info()"
   ]
  },
  {
   "cell_type": "markdown",
   "metadata": {
    "colab_type": "text",
    "id": "tcZsuf72yFKx"
   },
   "source": [
    "**Checking Null Values**"
   ]
  },
  {
   "cell_type": "code",
   "execution_count": null,
   "metadata": {
    "colab": {
     "base_uri": "https://localhost:8080/",
     "height": 102
    },
    "colab_type": "code",
    "id": "54VUx59TzPry",
    "outputId": "bd792775-413a-4109-dd91-1fabd61a065a"
   },
   "outputs": [],
   "source": [
    "print(df.isnull().sum())\n"
   ]
  },
  {
   "cell_type": "markdown",
   "metadata": {
    "colab_type": "text",
    "id": "bzNue3fLyZaz"
   },
   "source": [
    "**Drop nan**\n",
    "\n",
    "As they are very less so we drop the nan records from dataset."
   ]
  },
  {
   "cell_type": "code",
   "execution_count": null,
   "metadata": {
    "colab": {
     "base_uri": "https://localhost:8080/",
     "height": 136
    },
    "colab_type": "code",
    "id": "20-h1UjvC8od",
    "outputId": "875c8bc0-4108-499d-f6dc-61f9ee8e1ab3"
   },
   "outputs": [],
   "source": [
    "df1 = df.dropna(how='any',axis=0)\n",
    "df1.reset_index(inplace=True) \n",
    "\n",
    "print(df1.shape)\n",
    "print(df1.isnull().sum())\n",
    "\n"
   ]
  },
  {
   "cell_type": "markdown",
   "metadata": {
    "colab_type": "text",
    "id": "RtZgBwbKNnQz"
   },
   "source": [
    "**Drop** **Duplicates**"
   ]
  },
  {
   "cell_type": "code",
   "execution_count": null,
   "metadata": {
    "colab": {
     "base_uri": "https://localhost:8080/",
     "height": 34
    },
    "colab_type": "code",
    "id": "GN9v9EPbPle0",
    "outputId": "7e66362f-3d4a-4480-fd8d-4c7d5e62777e"
   },
   "outputs": [],
   "source": [
    "df2=df1.drop_duplicates(keep=False)\n",
    "#df2.reset_index(inplace=True)\n",
    "print(df2.shape)\n"
   ]
  },
  {
   "cell_type": "markdown",
   "metadata": {
    "colab_type": "text",
    "id": "pFNJmOWQSBrl"
   },
   "source": [
    "**Categorical Features Summarized**\n",
    "\n",
    "1.Top count features\n",
    "\n",
    "2.Frequency\n",
    "\n",
    "3.Number of unique labels"
   ]
  },
  {
   "cell_type": "code",
   "execution_count": null,
   "metadata": {
    "colab": {},
    "colab_type": "code",
    "id": "wnc6nrplUrOu"
   },
   "outputs": [],
   "source": [
    "def categorical_summarized(dataframe, x=None, y=None, hue=None, palette='Set1', verbose=True):\n",
    "   \n",
    "    if x == None:\n",
    "        column_interested = y\n",
    "    else:\n",
    "        column_interested = x\n",
    "    series = df2[column_interested]\n",
    "    print(series.describe())\n",
    "    print('mode: ', series.mode())\n",
    "    if verbose:\n",
    "        print('-'*40)\n",
    "        print(series.value_counts())\n",
    "\n",
    "        print('*'*80)"
   ]
  },
  {
   "cell_type": "code",
   "execution_count": null,
   "metadata": {
    "colab": {
     "base_uri": "https://localhost:8080/",
     "height": 1000
    },
    "colab_type": "code",
    "id": "vbrUXZsxaYxK",
    "outputId": "9b4fa388-2b62-49dd-931e-d8fcb5dfa98f"
   },
   "outputs": [],
   "source": [
    "categorical_summarized(df2, x='Vendor_Name', y=None, hue=None, palette='Set1', verbose=True)\n",
    "categorical_summarized(df2, x='IP_Address', y=None, hue=None, palette='Set1', verbose=True)\n",
    "categorical_summarized(df2, x='Date_Time', y=None, hue=None, palette='Set1', verbose=True)\n",
    "categorical_summarized(df2, x='Type', y=None, hue=None, palette='Set1', verbose=True)"
   ]
  },
  {
   "cell_type": "markdown",
   "metadata": {
    "colab_type": "text",
    "id": "W3EPa4uNTeiZ"
   },
   "source": [
    ".**Convert DATE_TIME (D.TYPE=OBJECT) TO (D.TYPE=DATE**)"
   ]
  },
  {
   "cell_type": "code",
   "execution_count": null,
   "metadata": {
    "colab": {},
    "colab_type": "code",
    "id": "u_pPVtAooZie"
   },
   "outputs": [],
   "source": [
    "df3=df2.copy() # BACK UP OF DF2\n",
    "from dateutil.parser import parse\n",
    "lst=[]\n",
    "for i in df3.Date_Time:\n",
    "  lst.append(pd.to_datetime(parse(i)))\n",
    "\n",
    "\n",
    "df3['date']=pd.DataFrame(lst)  "
   ]
  },
  {
   "cell_type": "code",
   "execution_count": null,
   "metadata": {
    "colab": {
     "base_uri": "https://localhost:8080/",
     "height": 238
    },
    "colab_type": "code",
    "id": "Ep6IobiowTU_",
    "outputId": "5d9beb6d-614c-4ad1-8bfa-63a306e21505"
   },
   "outputs": [],
   "source": [
    "df3.info()"
   ]
  },
  {
   "cell_type": "code",
   "execution_count": null,
   "metadata": {
    "colab": {
     "base_uri": "https://localhost:8080/",
     "height": 136
    },
    "colab_type": "code",
    "id": "bQ9HGWjveMbN",
    "outputId": "4971554e-990e-4a53-d4d7-888ebe4cd917"
   },
   "outputs": [],
   "source": [
    "df3.isnull().sum()"
   ]
  },
  {
   "cell_type": "code",
   "execution_count": null,
   "metadata": {
    "colab": {
     "base_uri": "https://localhost:8080/",
     "height": 1000
    },
    "colab_type": "code",
    "id": "DXXjoXrS_PTe",
    "outputId": "71e07f16-a734-4bf0-f24d-b5895b205fc0"
   },
   "outputs": [],
   "source": [
    "df4=df3.copy()\n",
    "df4[\"IP_Address\"] = df4[\"IP_Address\"].astype('category')\n",
    "df4[\"IP_Address_En\"] = df4[\"IP_Address\"].cat.codes\n",
    "df4[\"Vendor_Name\"] = df4['Vendor_Name'].astype('category')\n",
    "df4[\"Vendor_Name_En\"] = df4[\"Vendor_Name\"].cat.codes\n",
    "df4[\"Type\"] = df4['Type'].astype('category')\n",
    "df4[\"Type_En\"] = df4[\"Type\"].cat.codes\n",
    "df4.head(30)\n"
   ]
  },
  {
   "cell_type": "code",
   "execution_count": null,
   "metadata": {
    "colab": {
     "base_uri": "https://localhost:8080/",
     "height": 193
    },
    "colab_type": "code",
    "id": "OqBldwwc3z0U",
    "outputId": "8f30e3f9-aa8f-4f80-9b6c-3dec82ce5f45"
   },
   "outputs": [],
   "source": [
    "df4.tail(3)"
   ]
  },
  {
   "cell_type": "code",
   "execution_count": null,
   "metadata": {
    "colab": {
     "base_uri": "https://localhost:8080/",
     "height": 204
    },
    "colab_type": "code",
    "id": "JOmW5RLryjzF",
    "outputId": "f0e9cfac-b70f-4c2a-9498-9fca7e94b1db"
   },
   "outputs": [],
   "source": [
    "df5=df4[['date','IP_Address_En','Vendor_Name_En','Type_En']]\n",
    "df5.head()"
   ]
  },
  {
   "cell_type": "code",
   "execution_count": null,
   "metadata": {
    "colab": {},
    "colab_type": "code",
    "id": "4VcraTdA9Nkt"
   },
   "outputs": [],
   "source": [
    "df6=df5.copy()# back up of df5"
   ]
  },
  {
   "cell_type": "markdown",
   "metadata": {
    "colab_type": "text",
    "id": "htY4iqQfVWqx"
   },
   "source": [
    "Distribution of data"
   ]
  },
  {
   "cell_type": "code",
   "execution_count": null,
   "metadata": {
    "colab": {
     "base_uri": "https://localhost:8080/",
     "height": 1000
    },
    "colab_type": "code",
    "id": "EUeKLvDb9V6E",
    "outputId": "dee23f5b-6077-49bd-a846-e99781fc2c06"
   },
   "outputs": [],
   "source": [
    "for i in df6.columns:\n",
    "\n",
    "  plt.hist(df6[i], bins=100)\n",
    "  print(i)\n",
    "  plt.show()"
   ]
  },
  {
   "cell_type": "markdown",
   "metadata": {
    "colab_type": "text",
    "id": "vv5N9ESZVkFO"
   },
   "source": [
    "**Bivariate Analysis**"
   ]
  },
  {
   "cell_type": "code",
   "execution_count": null,
   "metadata": {
    "colab": {},
    "colab_type": "code",
    "id": "dkx5dsW0-n1w"
   },
   "outputs": [],
   "source": [
    "grouping = df6.groupby('IP_Address_En')['Vendor_Name_En'].count().reset_index()"
   ]
  },
  {
   "cell_type": "code",
   "execution_count": null,
   "metadata": {
    "colab": {
     "base_uri": "https://localhost:8080/",
     "height": 542
    },
    "colab_type": "code",
    "id": "BlrTn1L8CsvD",
    "outputId": "e581404a-98f0-4ed1-9204-13a13c7a3918"
   },
   "outputs": [],
   "source": [
    "fig = px.line(grouping, x='IP_Address_En', y=\"Vendor_Name_En\", \n",
    "              title=\"Ip_Address over vender count\")\n",
    "fig.show()"
   ]
  },
  {
   "cell_type": "code",
   "execution_count": null,
   "metadata": {
    "colab": {},
    "colab_type": "code",
    "id": "IOxPMl5z5oGr"
   },
   "outputs": [],
   "source": [
    "grouping = df6.groupby('IP_Address_En')['Type_En'].count().reset_index()"
   ]
  },
  {
   "cell_type": "code",
   "execution_count": null,
   "metadata": {
    "colab": {
     "base_uri": "https://localhost:8080/",
     "height": 542
    },
    "colab_type": "code",
    "id": "PXuoWIJz4ulN",
    "outputId": "9adab2b5-bdc0-4392-b972-3a4a74c9fb34"
   },
   "outputs": [],
   "source": [
    "fig = px.line(grouping, x='IP_Address_En', y=\"Type_En\", \n",
    "              title=\"Ip_Address over Type count\")\n",
    "fig.show()"
   ]
  },
  {
   "cell_type": "code",
   "execution_count": null,
   "metadata": {
    "colab": {
     "base_uri": "https://localhost:8080/",
     "height": 542
    },
    "colab_type": "code",
    "id": "RQBzVgocKIU3",
    "outputId": "f647ecaa-4c14-4b19-b566-292681a8aea5"
   },
   "outputs": [],
   "source": [
    "grouping = df6.groupby('date')['IP_Address_En'].count().reset_index()\n",
    "fig = px.line(grouping, x=\"date\", y=\"IP_Address_En\", \n",
    "              title=\"date over ip adress_count\")\n",
    "fig.show()"
   ]
  },
  {
   "cell_type": "code",
   "execution_count": null,
   "metadata": {
    "colab": {},
    "colab_type": "code",
    "id": "yc9LakZ79RSP"
   },
   "outputs": [],
   "source": [
    "grouping = df6.groupby('Vendor_Name_En')['IP_Address_En'].count().reset_index()\n"
   ]
  },
  {
   "cell_type": "code",
   "execution_count": null,
   "metadata": {
    "colab": {
     "base_uri": "https://localhost:8080/",
     "height": 542
    },
    "colab_type": "code",
    "id": "q4GZKsuK95Er",
    "outputId": "c60cd19d-8ec4-4156-9f44-7e0a081525e3"
   },
   "outputs": [],
   "source": [
    "fig = px.line(grouping, x=\"Vendor_Name_En\", y=\"IP_Address_En\", \n",
    "              title=\"Vendor_Name over ip adress_count\")\n",
    "fig.show()"
   ]
  },
  {
   "cell_type": "code",
   "execution_count": null,
   "metadata": {
    "colab": {
     "base_uri": "https://localhost:8080/",
     "height": 296
    },
    "colab_type": "code",
    "id": "yZweheOA-wN7",
    "outputId": "495deb63-5e50-43a4-9db0-db332ea0b000"
   },
   "outputs": [],
   "source": [
    "sns.countplot(x='Type', data=df2)\n",
    "plt.title('TYpe count')\n",
    "plt.show()"
   ]
  },
  {
   "cell_type": "markdown",
   "metadata": {
    "colab_type": "text",
    "id": "wJ9q3KsnWoHN"
   },
   "source": [
    "**Outliers Detection**"
   ]
  },
  {
   "cell_type": "markdown",
   "metadata": {
    "colab_type": "text",
    "id": "COYJkuD6nOLF"
   },
   "source": [
    "**ONE HOT ENCODING**"
   ]
  },
  {
   "cell_type": "code",
   "execution_count": null,
   "metadata": {
    "colab": {
     "base_uri": "https://localhost:8080/",
     "height": 80
    },
    "colab_type": "code",
    "id": "UirUNOpYnuOw",
    "outputId": "607d8f3a-3a70-45a5-e7ed-0261cddcb167"
   },
   "outputs": [],
   "source": [
    "df7=df4[['Type','date','IP_Address','Vendor_Name']]\n",
    "df7.head(1)"
   ]
  },
  {
   "cell_type": "code",
   "execution_count": null,
   "metadata": {
    "colab": {
     "base_uri": "https://localhost:8080/",
     "height": 34
    },
    "colab_type": "code",
    "id": "sxEa_WYlwyxb",
    "outputId": "5e341727-53a7-46bb-e959-382a9818cbf5"
   },
   "outputs": [],
   "source": [
    "\n",
    "ip_address=pd.get_dummies(df7['IP_Address'])\n",
    "len(ip_address.columns)"
   ]
  },
  {
   "cell_type": "code",
   "execution_count": null,
   "metadata": {
    "colab": {
     "base_uri": "https://localhost:8080/",
     "height": 34
    },
    "colab_type": "code",
    "id": "vYPzbWIWu1rj",
    "outputId": "33d5ee7f-08d4-46d5-943a-07d1ce908594"
   },
   "outputs": [],
   "source": [
    "from sklearn import preprocessing\n",
    "scaled_data = preprocessing.scale(ip_address.T)\n",
    "scaled_data.shape"
   ]
  },
  {
   "cell_type": "code",
   "execution_count": null,
   "metadata": {
    "colab": {
     "base_uri": "https://localhost:8080/",
     "height": 51
    },
    "colab_type": "code",
    "id": "tbuRFHcZyEL9",
    "outputId": "943e7e64-a46b-4350-9123-486c1d92048a"
   },
   "outputs": [],
   "source": [
    "from sklearn.decomposition import PCA\n",
    "pca = PCA()\n",
    "pca.fit(scaled_data)"
   ]
  },
  {
   "cell_type": "code",
   "execution_count": null,
   "metadata": {
    "colab": {
     "base_uri": "https://localhost:8080/",
     "height": 34
    },
    "colab_type": "code",
    "id": "JE9U80SQ0dHX",
    "outputId": "3082178c-f18d-43ef-84c5-110fc297a323"
   },
   "outputs": [],
   "source": [
    "pca_data = pca.transform(scaled_data)\n",
    "pca_data.shape"
   ]
  },
  {
   "cell_type": "code",
   "execution_count": null,
   "metadata": {
    "colab": {
     "base_uri": "https://localhost:8080/",
     "height": 34
    },
    "colab_type": "code",
    "id": "ixO-R9bQm2Pe",
    "outputId": "64e6749e-8ebf-4656-811a-d9c8d7152922"
   },
   "outputs": [],
   "source": [
    "per_var=np.round(pca.explained_variance_ratio_* 100, decimals=1)\n",
    "labels = ['PC' + str(x) for x in range(1, len(per_var)+1)]\n",
    "len(labels)"
   ]
  },
  {
   "cell_type": "code",
   "execution_count": null,
   "metadata": {
    "colab": {
     "base_uri": "https://localhost:8080/",
     "height": 194
    },
    "colab_type": "code",
    "id": "F-zFQEWGpBzw",
    "outputId": "e27073a3-e51c-45c2-e011-6544ffd96882"
   },
   "outputs": [],
   "source": [
    "pca_df = pd.DataFrame(pca_data, index=[ip_address.columns], columns=labels)\n",
    "pca_df.head(2)"
   ]
  },
  {
   "cell_type": "code",
   "execution_count": null,
   "metadata": {
    "colab": {
     "base_uri": "https://localhost:8080/",
     "height": 295
    },
    "colab_type": "code",
    "id": "et3QJRXo1b-p",
    "outputId": "0f797d09-a1c9-40a4-c653-7556f051f53e"
   },
   "outputs": [],
   "source": [
    "plt.scatter(pca_df.PC1, pca_df.PC2)\n",
    "plt.title('My PCA Graph')\n",
    "plt.xlabel('PC1 - {0}%'.format(per_var[0]))\n",
    "plt.ylabel('PC2 - {0}%'.format(per_var[1]))\n",
    " \n",
    "for sample in pca_df.index:\n",
    "    plt.annotate(sample, (pca_df.PC1.loc[sample], pca_df.PC2.loc[sample]))\n",
    " \n",
    "plt.show()"
   ]
  },
  {
   "cell_type": "code",
   "execution_count": null,
   "metadata": {
    "colab": {
     "base_uri": "https://localhost:8080/",
     "height": 228
    },
    "colab_type": "code",
    "id": "dzmdSyn_CbB6",
    "outputId": "a4469f20-d946-4144-f74b-ff7cd6528ff0"
   },
   "outputs": [],
   "source": [
    "df8=pd.concat([df7.drop(['IP_Address'],axis='columns'),ip_address],axis='columns')\n",
    "df8.head(2)"
   ]
  },
  {
   "cell_type": "code",
   "execution_count": null,
   "metadata": {
    "colab": {
     "base_uri": "https://localhost:8080/",
     "height": 105
    },
    "colab_type": "code",
    "id": "8ZGnEW1jcSnf",
    "outputId": "3c42f08e-da88-4a5e-cd0f-ba7fea12218d"
   },
   "outputs": [],
   "source": [
    "to_model_columns=df8.columns[3:390]\n",
    "from sklearn.ensemble import IsolationForest\n",
    "clf=IsolationForest(n_estimators=100, max_samples='auto', contamination=float(.12), \\\n",
    "                        max_features=1.0, bootstrap=False, n_jobs=-1, random_state=42, verbose=0)\n",
    "clf.fit(df8[to_model_columns])\n",
    "pred = clf.predict(df8[to_model_columns])\n",
    "df8['anomaly']=pred\n",
    "outliers=df8.loc[df8['anomaly']==-1]\n",
    "outlier_index=list(outliers.index)\n",
    "print(outlier_index)\n",
    "#Find the number of anomalies and normal points here points classified -1 are anomalous\n",
    "print(df8['anomaly'].value_counts())"
   ]
  },
  {
   "cell_type": "code",
   "execution_count": null,
   "metadata": {
    "colab": {
     "base_uri": "https://localhost:8080/",
     "height": 248
    },
    "colab_type": "code",
    "id": "faTU-iMuPa7-",
    "outputId": "bcbee868-9a22-4cbb-f59f-cffb37885613"
   },
   "outputs": [],
   "source": [
    "import matplotlib.pyplot as plt\n",
    "from sklearn.decomposition import PCA\n",
    "from sklearn.preprocessing import StandardScaler\n",
    "from mpl_toolkits.mplot3d import Axes3D\n",
    "pca = PCA(n_components=3)  # Reduce to k=3 dimensions\n",
    "scaler = StandardScaler()\n",
    "#normalize the metrics\n",
    "X = scaler.fit_transform(df8[to_model_columns])\n",
    "X_reduce = pca.fit_transform(X)\n",
    "fig = plt.figure()\n",
    "ax = fig.add_subplot(111, projection='3d')\n",
    "ax.set_zlabel(\"x_composite_3\")\n",
    "# Plot the compressed data points\n",
    "ax.scatter(X_reduce[:, 0], X_reduce[:, 1], zs=X_reduce[:, 2], s=4, lw=1, label=\"inliers\",c=\"green\")\n",
    "# Plot x's for the ground truth outliers\n",
    "ax.scatter(X_reduce[outlier_index,0],X_reduce[outlier_index,1], X_reduce[outlier_index,2],\n",
    "           lw=2, s=60, marker=\"x\", c=\"red\", label=\"outliers\")\n",
    "ax.legend()\n",
    "plt.show()"
   ]
  },
  {
   "cell_type": "code",
   "execution_count": null,
   "metadata": {
    "colab": {
     "base_uri": "https://localhost:8080/",
     "height": 231
    },
    "colab_type": "code",
    "id": "WcFqmWyoHcEd",
    "outputId": "371d8ce2-fc90-4eb7-cc7c-f4038480e68f"
   },
   "outputs": [],
   "source": [
    "to_model_columns=df8.columns[3:390]\n",
    "from sklearn.decomposition import PCA\n",
    "pca = PCA(2)\n",
    "pca.fit(df8[to_model_columns])\n",
    "res=pd.DataFrame(pca.transform(df8[to_model_columns]))\n",
    "Z = np.array(res)\n",
    "plt.title(\"IsolationForest\")\n",
    "plt.contourf( Z, cmap=plt.cm.Blues_r)\n",
    "b1 = plt.scatter(res[0], res[1], c='green',\n",
    "                 s=20,label=\"normal points\")\n",
    "b1 =plt.scatter(res.iloc[outlier_index,0],res.iloc[outlier_index,1], c='green',s=20,  edgecolor=\"red\",label=\"predicted outliers\")\n",
    "plt.legend(loc=\"upper right\")\n",
    "plt.show()"
   ]
  },
  {
   "cell_type": "markdown",
   "metadata": {
    "colab_type": "text",
    "id": "Ad9xwDm0zB65"
   },
   "source": [
    "**Top 20 Best Vendors**"
   ]
  },
  {
   "cell_type": "code",
   "execution_count": null,
   "metadata": {
    "colab": {},
    "colab_type": "code",
    "id": "d2evS8Ihxxex"
   },
   "outputs": [],
   "source": [
    "df5=df4\n",
    "temp_df = pd.DataFrame(df5['Vendor_Name'].value_counts()).head(20)\n",
    "print(temp_df.head(2))\n",
    "import os\n",
    "\n",
    "x = list(temp_df.index)[::-1]\n",
    "y = list(temp_df['Vendor_Name'])[::-1]\n",
    "\n",
    "fig, ax = plt.subplots()    \n",
    "width = 0.75 # the width of the bars \n",
    "ind = np.arange(len(y))  # the x locations for the groups\n",
    "ax.barh(ind, y, width, color=\"c\")\n",
    "ax.set_yticks(ind+width/30)\n",
    "ax.set_yticklabels(x, minor=False, fontsize=15)\n",
    "plt.xticks([])\n",
    "\n",
    "plt.rcParams['figure.figsize'] = (30,10)\n",
    "plt.rcParams.update({'font.size': 15})\n",
    "plt.title('BEST VENDOR', fontsize=35)\n",
    "plt.xlabel('Total count per vendor', fontsize=20)\n",
    "plt.ylabel('Vendor Name', fontsize=20)      \n",
    "#plt.show()\n",
    "plt.savefig(os.path.join('test.png'), dpi=300, format='png', bbox_inches='tight', color='c') \n",
    "\n",
    "for i, v in enumerate(y):\n",
    "    ax.text(v + 1, i + -0.15, str(v), color='k', fontweight='bold', fontsize=20)"
   ]
  },
  {
   "cell_type": "markdown",
   "metadata": {
    "colab_type": "text",
    "id": "Cu2Bo0bF0AwS"
   },
   "source": [
    "**Low Performer Vendors**"
   ]
  },
  {
   "cell_type": "code",
   "execution_count": null,
   "metadata": {
    "colab": {},
    "colab_type": "code",
    "id": "tv19W3azzcys"
   },
   "outputs": [],
   "source": [
    "temp_df = pd.DataFrame(df5['Vendor_Name'].value_counts()).tail(20)\n",
    "print(temp_df.head(2))\n",
    "\n",
    "x = list(temp_df.index)[::-1]\n",
    "y = list(temp_df['Vendor_Name'])[::-1]\n",
    "\n",
    "fig, ax = plt.subplots()    \n",
    "width = 0.75 # the width of the bars \n",
    "ind = np.arange(len(y))  # the x locations for the groups\n",
    "ax.barh(ind, y, width, color=\"c\")\n",
    "ax.set_yticks(ind+width/30)\n",
    "ax.set_yticklabels(x, minor=False, fontsize=15)\n",
    "plt.xticks([])\n",
    "\n",
    "plt.rcParams['figure.figsize'] = (30,10)\n",
    "plt.rcParams.update({'font.size': 15})\n",
    "plt.title('LOW PERFORMANCE VENDORS', fontsize=35)\n",
    "plt.xlabel('Total Count per Vendor', fontsize=20)\n",
    "plt.ylabel('Vendor Name', fontsize=20)      \n",
    "#plt.show()\n",
    "plt.savefig(os.path.join('test.png'), dpi=300, format='png', bbox_inches='tight', color='c') \n",
    "\n",
    "for i, v in enumerate(y):\n",
    "    ax.text(v + 1, i + -0.15, str(v), color='k', fontweight='bold', fontsize=20)"
   ]
  },
  {
   "cell_type": "markdown",
   "metadata": {
    "colab_type": "text",
    "id": "4E50z2fI8N3c"
   },
   "source": [
    "**Best DateWise**"
   ]
  },
  {
   "cell_type": "code",
   "execution_count": null,
   "metadata": {
    "colab": {},
    "colab_type": "code",
    "id": "vOvaKnjw05sq"
   },
   "outputs": [],
   "source": [
    "from tqdm import tqdm\n",
    "from dateutil.parser import parse\n",
    "lst=[]\n",
    "for i in tqdm(df.Date_Time):\n",
    "  lst.append(parse(i).strftime('%m/%d/%Y'))"
   ]
  },
  {
   "cell_type": "code",
   "execution_count": null,
   "metadata": {
    "colab": {},
    "colab_type": "code",
    "id": "mStDgng35YS3"
   },
   "outputs": [],
   "source": [
    "temp_df = df.copy()\n",
    "temp_df['Date_Time'] = lst\n",
    "temp_df['temp_num'] = [1 for i in range(temp_df.shape[0])]\n",
    "temp_df.drop(['IP_Address', 'Vendor_Name', 'Type'], axis=1, inplace=True)\n",
    "temp_df = pd.DataFrame(temp_df['temp_num'] ,index=temp_df['Date_Time'])\n",
    "temp_df.fillna(1, inplace=True)\n",
    "temp_df = temp_df.groupby(axis=0, level=0).sum()\n",
    "temp_df"
   ]
  },
  {
   "cell_type": "code",
   "execution_count": null,
   "metadata": {
    "colab": {},
    "colab_type": "code",
    "id": "PkU9heyO5kS1"
   },
   "outputs": [],
   "source": [
    "import operator\n",
    "\n",
    "temp_df = pd.DataFrame(sorted(dict(zip(list(temp_df.index), list(temp_df['temp_num']))).items(), reverse=True ,key=operator.itemgetter(1)), columns=['Date_Time', 'temp_num'])\n",
    "\n",
    "x = list(temp_df['Date_Time'])[::-1]\n",
    "y = list(temp_df['temp_num'])[::-1]\n",
    "y = list(int(j) for j in y)\n",
    "\n",
    "fig, ax = plt.subplots()    \n",
    "width = 0.75 # the width of the bars \n",
    "ind = np.arange(len(y))  # the x locations for the groups\n",
    "ax.barh(ind, y, width, color=\"c\")\n",
    "ax.set_yticks(ind+width/30)\n",
    "ax.set_yticklabels(x, minor=False, fontsize=15)\n",
    "plt.xticks([])\n",
    "\n",
    "plt.rcParams['figure.figsize'] = (30,10)\n",
    "plt.rcParams.update({'font.size': 15})\n",
    "plt.title('Best Date Wise', fontsize=35)\n",
    "plt.xlabel('Numbers', fontsize=20)\n",
    "plt.ylabel('Date', fontsize=20)      \n",
    "#plt.show()\n",
    "plt.savefig(os.path.join('test.png'), dpi=300, format='png', bbox_inches='tight', color='c') \n",
    "\n",
    "for i, v in enumerate(y):\n",
    "    ax.text(v + -1800, i + -0.15, str(v), color='w', fontweight='bold', fontsize=20)\n",
    "\n",
    "   "
   ]
  },
  {
   "cell_type": "code",
   "execution_count": null,
   "metadata": {},
   "outputs": [],
   "source": []
  }
 ],
 "metadata": {
  "colab": {
   "collapsed_sections": [],
   "name": "ip_address.ipynb",
   "provenance": []
  },
  "kernelspec": {
   "display_name": "Python 3",
   "language": "python",
   "name": "python3"
  },
  "language_info": {
   "codemirror_mode": {
    "name": "ipython",
    "version": 3
   },
   "file_extension": ".py",
   "mimetype": "text/x-python",
   "name": "python",
   "nbconvert_exporter": "python",
   "pygments_lexer": "ipython3",
   "version": "3.7.6"
  }
 },
 "nbformat": 4,
 "nbformat_minor": 1
}
